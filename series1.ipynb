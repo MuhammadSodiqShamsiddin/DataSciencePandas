{
 "cells": [
  {
   "cell_type": "code",
   "execution_count": 36,
   "id": "80758296-74ff-460b-bb84-e258cd609ec9",
   "metadata": {},
   "outputs": [],
   "source": [
    "from pandas import Series, DataFrame as df"
   ]
  },
  {
   "cell_type": "code",
   "execution_count": 26,
   "id": "b90fd333-a22f-4d5d-aa0d-86d4cfd93748",
   "metadata": {},
   "outputs": [],
   "source": [
    "cars_dict = {'Honda':38000,'Lacetti':20000,'Malibu':40000,'Mazda':52000,'Toyota':45000}"
   ]
  },
  {
   "cell_type": "code",
   "execution_count": 27,
   "id": "a1c41c6d-e0eb-4d8c-af35-3703cda5219b",
   "metadata": {},
   "outputs": [],
   "source": [
    "cars1 = Series(cars_dict)"
   ]
  },
  {
   "cell_type": "code",
   "execution_count": 28,
   "id": "e4aa8bf6-d583-4d16-a213-1267bd93cb66",
   "metadata": {},
   "outputs": [
    {
     "data": {
      "text/plain": [
       "Honda      38000\n",
       "Lacetti    20000\n",
       "Malibu     40000\n",
       "Mazda      52000\n",
       "Toyota     45000\n",
       "dtype: int64"
      ]
     },
     "execution_count": 28,
     "metadata": {},
     "output_type": "execute_result"
    }
   ],
   "source": [
    "cars1"
   ]
  },
  {
   "cell_type": "code",
   "execution_count": 29,
   "id": "6ea79239-d187-4c43-8f14-887c676429b6",
   "metadata": {},
   "outputs": [
    {
     "name": "stdout",
     "output_type": "stream",
     "text": [
      "<class 'dict'>\n"
     ]
    },
    {
     "data": {
      "text/plain": [
       "pandas.core.series.Series"
      ]
     },
     "execution_count": 29,
     "metadata": {},
     "output_type": "execute_result"
    }
   ],
   "source": [
    "print(type(cars_dict))\n",
    "type(cars1)"
   ]
  },
  {
   "cell_type": "code",
   "execution_count": 30,
   "id": "7ffe70cb-3393-4c5f-862b-569b6586b643",
   "metadata": {},
   "outputs": [
    {
     "data": {
      "text/plain": [
       "Honda      38000\n",
       "Lacetti    20000\n",
       "Malibu     40000\n",
       "Mazda      52000\n",
       "Toyota     45000\n",
       "dtype: int64"
      ]
     },
     "execution_count": 30,
     "metadata": {},
     "output_type": "execute_result"
    }
   ],
   "source": [
    "cars1 = Series({'Honda':38000,'Lacetti':20000,'Malibu':40000,'Mazda':52000,'Toyota':45000})\n",
    "cars1"
   ]
  },
  {
   "cell_type": "code",
   "execution_count": 31,
   "id": "88c3d760-412e-4519-bf78-37f870d97892",
   "metadata": {},
   "outputs": [
    {
     "data": {
      "text/plain": [
       "True"
      ]
     },
     "execution_count": 31,
     "metadata": {},
     "output_type": "execute_result"
    }
   ],
   "source": [
    "'Malibu' in cars1"
   ]
  },
  {
   "cell_type": "code",
   "execution_count": 9,
   "id": "4d0c414d-171e-4229-853e-bf4fa674a6d8",
   "metadata": {},
   "outputs": [
    {
     "data": {
      "text/plain": [
       "False"
      ]
     },
     "execution_count": 9,
     "metadata": {},
     "output_type": "execute_result"
    }
   ],
   "source": [
    "'BMW' in cars1"
   ]
  },
  {
   "cell_type": "code",
   "execution_count": 10,
   "id": "77fce876-9bee-40c5-817c-a778a3ff3261",
   "metadata": {},
   "outputs": [
    {
     "data": {
      "text/plain": [
       "45000"
      ]
     },
     "execution_count": 10,
     "metadata": {},
     "output_type": "execute_result"
    }
   ],
   "source": [
    "cars1['Toyota']"
   ]
  },
  {
   "cell_type": "code",
   "execution_count": 32,
   "id": "40f16312-4ecd-4c45-8676-e7643f3ef64c",
   "metadata": {},
   "outputs": [],
   "source": [
    "models = ['Honda', 'Mazda', 'Lacetti', 'Jaguar', 'Malibu', 'Toyota', 'BMW', 'MERCEDES']"
   ]
  },
  {
   "cell_type": "code",
   "execution_count": 33,
   "id": "7e06475c-9ac6-42e4-b722-43c983e2bced",
   "metadata": {},
   "outputs": [],
   "source": [
    "cars2 = Series(cars_dict, index = models)"
   ]
  },
  {
   "cell_type": "code",
   "execution_count": 34,
   "id": "9392fce0-0c4f-4374-8749-f0f85bdfea1e",
   "metadata": {},
   "outputs": [
    {
     "data": {
      "text/plain": [
       "Honda       38000.0\n",
       "Mazda       52000.0\n",
       "Lacetti     20000.0\n",
       "Jaguar          NaN\n",
       "Malibu      40000.0\n",
       "Toyota      45000.0\n",
       "BMW             NaN\n",
       "MERCEDES        NaN\n",
       "dtype: float64"
      ]
     },
     "execution_count": 34,
     "metadata": {},
     "output_type": "execute_result"
    }
   ],
   "source": [
    "cars2"
   ]
  },
  {
   "cell_type": "code",
   "execution_count": 37,
   "id": "311f33d0-3877-4899-8a8b-b7a9e34cce07",
   "metadata": {},
   "outputs": [],
   "source": [
    "# Series Methods\n",
    "obj = Series([4, 5, -7, 3.2])"
   ]
  },
  {
   "cell_type": "code",
   "execution_count": 38,
   "id": "83c61c77-44bf-4f64-b658-7641412fadb6",
   "metadata": {},
   "outputs": [
    {
     "data": {
      "text/plain": [
       "0    4.0\n",
       "1    5.0\n",
       "2   -7.0\n",
       "3    3.2\n",
       "dtype: float64"
      ]
     },
     "execution_count": 38,
     "metadata": {},
     "output_type": "execute_result"
    }
   ],
   "source": [
    "obj"
   ]
  },
  {
   "cell_type": "code",
   "execution_count": 39,
   "id": "b588fef2-41c5-4efa-b338-c18a6518abfa",
   "metadata": {},
   "outputs": [
    {
     "data": {
      "text/plain": [
       "RangeIndex(start=0, stop=4, step=1)"
      ]
     },
     "execution_count": 39,
     "metadata": {},
     "output_type": "execute_result"
    }
   ],
   "source": [
    "obj.index"
   ]
  },
  {
   "cell_type": "code",
   "execution_count": 40,
   "id": "bcdba3fc-1c49-4274-b4db-aec388bc7b51",
   "metadata": {},
   "outputs": [
    {
     "data": {
      "text/plain": [
       "array([ 4. ,  5. , -7. ,  3.2])"
      ]
     },
     "execution_count": 40,
     "metadata": {},
     "output_type": "execute_result"
    }
   ],
   "source": [
    "obj.values"
   ]
  },
  {
   "cell_type": "code",
   "execution_count": 47,
   "id": "e7dd6780-37b4-4381-bc68-cb28c6b16d51",
   "metadata": {},
   "outputs": [
    {
     "data": {
      "text/plain": [
       "Modellar\n",
       "Honda       38000.0\n",
       "Mazda       52000.0\n",
       "Lacetti     20000.0\n",
       "Jaguar          NaN\n",
       "Malibu      40000.0\n",
       "Toyota      45000.0\n",
       "BMW             NaN\n",
       "MERCEDES        NaN\n",
       "Name: AvtoSalon, dtype: float64"
      ]
     },
     "execution_count": 47,
     "metadata": {},
     "output_type": "execute_result"
    }
   ],
   "source": [
    "cars2.name = 'AvtoSalon'\n",
    "cars2.index.name = 'Modellar'\n",
    "cars2"
   ]
  },
  {
   "cell_type": "code",
   "execution_count": 49,
   "id": "3c60e063-bc33-49e7-9b21-b441f6e4d858",
   "metadata": {},
   "outputs": [],
   "source": [
    "salon = Series(cars_dict, index = models)"
   ]
  },
  {
   "cell_type": "code",
   "execution_count": 50,
   "id": "978c904a-5377-4357-8204-9d35578b9da3",
   "metadata": {},
   "outputs": [
    {
     "data": {
      "text/plain": [
       "Honda       38000.0\n",
       "Mazda       52000.0\n",
       "Lacetti     20000.0\n",
       "Jaguar          NaN\n",
       "Malibu      40000.0\n",
       "Toyota      45000.0\n",
       "BMW             NaN\n",
       "MERCEDES        NaN\n",
       "dtype: float64"
      ]
     },
     "execution_count": 50,
     "metadata": {},
     "output_type": "execute_result"
    }
   ],
   "source": [
    "salon"
   ]
  },
  {
   "cell_type": "code",
   "execution_count": 51,
   "id": "b5d0f9ea-97d0-44c4-9ac6-9c09d31f994a",
   "metadata": {},
   "outputs": [
    {
     "data": {
      "text/plain": [
       "Honda       False\n",
       "Mazda       False\n",
       "Lacetti     False\n",
       "Jaguar       True\n",
       "Malibu      False\n",
       "Toyota      False\n",
       "BMW          True\n",
       "MERCEDES     True\n",
       "dtype: bool"
      ]
     },
     "execution_count": 51,
     "metadata": {},
     "output_type": "execute_result"
    }
   ],
   "source": [
    "salon.isnull()"
   ]
  },
  {
   "cell_type": "code",
   "execution_count": 52,
   "id": "1334a653-8046-4ad5-bb9f-92d14883e936",
   "metadata": {},
   "outputs": [
    {
     "data": {
      "text/plain": [
       "Honda        True\n",
       "Mazda        True\n",
       "Lacetti      True\n",
       "Jaguar      False\n",
       "Malibu       True\n",
       "Toyota       True\n",
       "BMW         False\n",
       "MERCEDES    False\n",
       "dtype: bool"
      ]
     },
     "execution_count": 52,
     "metadata": {},
     "output_type": "execute_result"
    }
   ],
   "source": [
    "salon.notnull()"
   ]
  },
  {
   "cell_type": "code",
   "execution_count": 53,
   "id": "506ee8d9-38b6-46bb-a377-e5c92020aeef",
   "metadata": {},
   "outputs": [
    {
     "data": {
      "text/plain": [
       "BMW              NaN\n",
       "Honda        76000.0\n",
       "Jaguar           NaN\n",
       "Lacetti      40000.0\n",
       "MERCEDES         NaN\n",
       "Malibu       80000.0\n",
       "Mazda       104000.0\n",
       "Toyota       90000.0\n",
       "dtype: float64"
      ]
     },
     "execution_count": 53,
     "metadata": {},
     "output_type": "execute_result"
    }
   ],
   "source": [
    "cars1 + cars2"
   ]
  },
  {
   "cell_type": "code",
   "execution_count": 54,
   "id": "20fdd755-887f-4477-a7fb-b8332e66cec7",
   "metadata": {},
   "outputs": [],
   "source": [
    "new_prices = Series({\"Honda\":5000, \"Mazda\":-3000, \"Malibu\":4500, \"Toyota\":5200, 'Lacetti':-1200})"
   ]
  },
  {
   "cell_type": "code",
   "execution_count": 55,
   "id": "b710460b-ea9f-4716-9859-89f2658dfe08",
   "metadata": {},
   "outputs": [
    {
     "data": {
      "text/plain": [
       "BMW             NaN\n",
       "Honda       43000.0\n",
       "Jaguar          NaN\n",
       "Lacetti     18800.0\n",
       "MERCEDES        NaN\n",
       "Malibu      44500.0\n",
       "Mazda       49000.0\n",
       "Toyota      50200.0\n",
       "dtype: float64"
      ]
     },
     "execution_count": 55,
     "metadata": {},
     "output_type": "execute_result"
    }
   ],
   "source": [
    "salon + new_prices"
   ]
  },
  {
   "cell_type": "code",
   "execution_count": 56,
   "id": "7d35717e-5c14-4aad-b2c0-97371fc25813",
   "metadata": {},
   "outputs": [
    {
     "data": {
      "text/plain": [
       "Honda       38000.0\n",
       "Mazda       52000.0\n",
       "Lacetti     20000.0\n",
       "Jaguar          NaN\n",
       "Malibu      40000.0\n",
       "Toyota      45000.0\n",
       "BMW             NaN\n",
       "MERCEDES        NaN\n",
       "dtype: float64"
      ]
     },
     "execution_count": 56,
     "metadata": {},
     "output_type": "execute_result"
    }
   ],
   "source": [
    "salon"
   ]
  },
  {
   "cell_type": "code",
   "execution_count": 57,
   "id": "4b82173b-a111-4a38-bd68-5d3c76f3c835",
   "metadata": {},
   "outputs": [
    {
     "data": {
      "text/plain": [
       "Car model\n",
       "Honda       38000.0\n",
       "Mazda       52000.0\n",
       "Lacetti     20000.0\n",
       "Jaguar          NaN\n",
       "Malibu      40000.0\n",
       "Toyota      45000.0\n",
       "BMW             NaN\n",
       "MERCEDES        NaN\n",
       "Name: AutoSalon, dtype: float64"
      ]
     },
     "execution_count": 57,
     "metadata": {},
     "output_type": "execute_result"
    }
   ],
   "source": [
    "salon.name = 'AutoSalon'\n",
    "salon.index.name = 'Car model'\n",
    "salon"
   ]
  },
  {
   "cell_type": "code",
   "execution_count": 58,
   "id": "142dd373-dabc-4160-a74e-d9fb6005df0e",
   "metadata": {},
   "outputs": [
    {
     "data": {
      "text/plain": [
       "Index(['Honda', 'Mazda', 'Lacetti', 'Jaguar', 'Malibu', 'Toyota', 'BMW',\n",
       "       'MERCEDES'],\n",
       "      dtype='object', name='Car model')"
      ]
     },
     "execution_count": 58,
     "metadata": {},
     "output_type": "execute_result"
    }
   ],
   "source": [
    "salon.index"
   ]
  },
  {
   "cell_type": "code",
   "execution_count": 59,
   "id": "1a3eadf8-985e-4f6b-bd29-e79610bb6a11",
   "metadata": {},
   "outputs": [
    {
     "data": {
      "text/plain": [
       "array([38000., 52000., 20000.,    nan, 40000., 45000.,    nan,    nan])"
      ]
     },
     "execution_count": 59,
     "metadata": {},
     "output_type": "execute_result"
    }
   ],
   "source": [
    "salon.values"
   ]
  },
  {
   "cell_type": "code",
   "execution_count": 62,
   "id": "507ab152-cd95-40ee-8254-d3f27b34bf6a",
   "metadata": {},
   "outputs": [
    {
     "data": {
      "text/plain": [
       "True"
      ]
     },
     "execution_count": 62,
     "metadata": {},
     "output_type": "execute_result"
    }
   ],
   "source": [
    "salon.hasnans # Salom ichida NaN qiymatlar borligini tekshiradi"
   ]
  },
  {
   "cell_type": "code",
   "execution_count": 63,
   "id": "af8d30dc-27fa-4906-8ba3-743d37498789",
   "metadata": {},
   "outputs": [
    {
     "data": {
      "text/plain": [
       "False"
      ]
     },
     "execution_count": 63,
     "metadata": {},
     "output_type": "execute_result"
    }
   ],
   "source": [
    "salon.is_unique # Qiymatlar takrorlanmasligini tekshiradi"
   ]
  },
  {
   "cell_type": "code",
   "execution_count": 64,
   "id": "4e98462c-0518-434b-8bb7-3ae9857bb25d",
   "metadata": {},
   "outputs": [
    {
     "data": {
      "text/plain": [
       "Car model\n",
       "Honda       38000.0\n",
       "Mazda       52000.0\n",
       "Lacetti     20000.0\n",
       "Jaguar          NaN\n",
       "Malibu      40000.0\n",
       "Toyota      45000.0\n",
       "BMW             NaN\n",
       "MERCEDES        NaN\n",
       "Name: AutoSalon, dtype: float64"
      ]
     },
     "execution_count": 64,
     "metadata": {},
     "output_type": "execute_result"
    }
   ],
   "source": [
    "salon"
   ]
  },
  {
   "cell_type": "code",
   "execution_count": 65,
   "id": "302a8651-cdc2-4e9f-a35b-97a50b76083a",
   "metadata": {},
   "outputs": [
    {
     "name": "stdout",
     "output_type": "stream",
     "text": [
      "(8,)\n",
      "8\n"
     ]
    }
   ],
   "source": [
    "print(salon.shape)\n",
    "print(salon.size)"
   ]
  },
  {
   "cell_type": "code",
   "execution_count": 66,
   "id": "1c790f30-f790-4b61-8248-998ae7c66132",
   "metadata": {},
   "outputs": [
    {
     "data": {
      "text/plain": [
       "20000.0"
      ]
     },
     "execution_count": 66,
     "metadata": {},
     "output_type": "execute_result"
    }
   ],
   "source": [
    "salon.iloc[2]"
   ]
  },
  {
   "cell_type": "code",
   "execution_count": 67,
   "id": "b16e0f34-e423-4b32-a24d-3c638825a837",
   "metadata": {},
   "outputs": [
    {
     "data": {
      "text/plain": [
       "nan"
      ]
     },
     "execution_count": 67,
     "metadata": {},
     "output_type": "execute_result"
    }
   ],
   "source": [
    "salon.iloc[-1]"
   ]
  },
  {
   "cell_type": "code",
   "execution_count": 68,
   "id": "69056eb3-d09a-4685-91a1-33d746675a6c",
   "metadata": {},
   "outputs": [
    {
     "data": {
      "text/plain": [
       "45000.0"
      ]
     },
     "execution_count": 68,
     "metadata": {},
     "output_type": "execute_result"
    }
   ],
   "source": [
    "salon.iloc[-3]"
   ]
  },
  {
   "cell_type": "code",
   "execution_count": 69,
   "id": "e238270e-b899-4969-b260-0b424c03c5fa",
   "metadata": {},
   "outputs": [
    {
     "data": {
      "text/plain": [
       "45000.0"
      ]
     },
     "execution_count": 69,
     "metadata": {},
     "output_type": "execute_result"
    }
   ],
   "source": [
    "salon['Toyota']"
   ]
  },
  {
   "cell_type": "code",
   "execution_count": 70,
   "id": "4c2ac5ea-601e-41e7-a8a4-0033429a9e43",
   "metadata": {},
   "outputs": [
    {
     "data": {
      "text/plain": [
       "45000.0"
      ]
     },
     "execution_count": 70,
     "metadata": {},
     "output_type": "execute_result"
    }
   ],
   "source": [
    "salon.loc['Toyota']"
   ]
  },
  {
   "cell_type": "code",
   "execution_count": 71,
   "id": "0d7b3da3-639a-48c2-8294-a7d54421b640",
   "metadata": {},
   "outputs": [
    {
     "data": {
      "text/plain": [
       "52000.0"
      ]
     },
     "execution_count": 71,
     "metadata": {},
     "output_type": "execute_result"
    }
   ],
   "source": [
    "salon.max()"
   ]
  },
  {
   "cell_type": "code",
   "execution_count": 72,
   "id": "b1511792-d781-48db-b61f-a69c531112a3",
   "metadata": {},
   "outputs": [
    {
     "data": {
      "text/plain": [
       "20000.0"
      ]
     },
     "execution_count": 72,
     "metadata": {},
     "output_type": "execute_result"
    }
   ],
   "source": [
    "salon.min()"
   ]
  },
  {
   "cell_type": "code",
   "execution_count": 73,
   "id": "e0f8e1a7-7388-48a6-8ab8-9ec208f131a7",
   "metadata": {},
   "outputs": [
    {
     "data": {
      "text/plain": [
       "39000.0"
      ]
     },
     "execution_count": 73,
     "metadata": {},
     "output_type": "execute_result"
    }
   ],
   "source": [
    "salon.mean()"
   ]
  },
  {
   "cell_type": "code",
   "execution_count": 77,
   "id": "e621fa6e-9f75-48ab-b4c4-1ec8b88fc1da",
   "metadata": {},
   "outputs": [],
   "source": [
    "cars3 = {'Honda': 'Qizil',\n",
    " 'Lacetti': 'Yashil',\n",
    " 'Malibu': 'Pushti',\n",
    " 'Mazda': 'Jigarrang',\n",
    " 'Toyota': 'to\\'qsariq'}\n",
    "salon2 = Series(cars3)"
   ]
  },
  {
   "cell_type": "code",
   "execution_count": 78,
   "id": "9181eb2d-333d-42ed-9ea2-dd30d5b1ea18",
   "metadata": {},
   "outputs": [
    {
     "data": {
      "text/plain": [
       "Honda          Qizil\n",
       "Lacetti       Yashil\n",
       "Malibu        Pushti\n",
       "Mazda      Jigarrang\n",
       "Toyota     to'qsariq\n",
       "dtype: object"
      ]
     },
     "execution_count": 78,
     "metadata": {},
     "output_type": "execute_result"
    }
   ],
   "source": [
    "salon2"
   ]
  },
  {
   "cell_type": "code",
   "execution_count": 79,
   "id": "ea619582-5677-44fc-b85f-b5ee1456c742",
   "metadata": {},
   "outputs": [
    {
     "data": {
      "text/plain": [
       "'Pushti'"
      ]
     },
     "execution_count": 79,
     "metadata": {},
     "output_type": "execute_result"
    }
   ],
   "source": [
    "salon2['Malibu']"
   ]
  },
  {
   "cell_type": "code",
   "execution_count": 81,
   "id": "8a17e65c-2567-40b1-b61b-b50ea72da849",
   "metadata": {},
   "outputs": [
    {
     "data": {
      "text/plain": [
       "True"
      ]
     },
     "execution_count": 81,
     "metadata": {},
     "output_type": "execute_result"
    }
   ],
   "source": [
    "salon2.is_unique"
   ]
  },
  {
   "cell_type": "code",
   "execution_count": 82,
   "id": "2d117883-b76e-457f-aca5-0c6039cebf2e",
   "metadata": {},
   "outputs": [
    {
     "data": {
      "text/plain": [
       "False"
      ]
     },
     "execution_count": 82,
     "metadata": {},
     "output_type": "execute_result"
    }
   ],
   "source": [
    "salon2.hasnans"
   ]
  }
 ],
 "metadata": {
  "kernelspec": {
   "display_name": "Python 3 (ipykernel)",
   "language": "python",
   "name": "python3"
  },
  "language_info": {
   "codemirror_mode": {
    "name": "ipython",
    "version": 3
   },
   "file_extension": ".py",
   "mimetype": "text/x-python",
   "name": "python",
   "nbconvert_exporter": "python",
   "pygments_lexer": "ipython3",
   "version": "3.11.7"
  }
 },
 "nbformat": 4,
 "nbformat_minor": 5
}
